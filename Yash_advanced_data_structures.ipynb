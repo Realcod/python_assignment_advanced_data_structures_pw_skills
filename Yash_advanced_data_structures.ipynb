{
 "cells": [
  {
   "cell_type": "code",
   "execution_count": 8,
   "id": "e933af72-b986-4010-ac17-51d8eb044653",
   "metadata": {},
   "outputs": [
    {
     "name": "stdout",
     "output_type": "stream",
     "text": [
      "niaJ hsaY\n"
     ]
    }
   ],
   "source": [
    "#1) Write a code to reverse a string\n",
    "str=\"Yash Jain\"\n",
    "new_str=\"\"\n",
    "for i in str:\n",
    "    new_str=i+new_str\n",
    "print(new_str)"
   ]
  },
  {
   "cell_type": "code",
   "execution_count": 9,
   "id": "d431346d-a7e1-43da-8d2e-070e82a00d7b",
   "metadata": {},
   "outputs": [
    {
     "name": "stdout",
     "output_type": "stream",
     "text": [
      "3\n"
     ]
    }
   ],
   "source": [
    "#2) Write a code to count the number of vowel in a string?\n",
    "str=\"Yash Jain\"\n",
    "count=0\n",
    "for i in str:\n",
    "    if i in ['a','e','i','o','u','A','E','I','O','U']:\n",
    "        count+=1\n",
    "print(count)\n",
    "        "
   ]
  },
  {
   "cell_type": "code",
   "execution_count": 13,
   "id": "38b881df-367c-4899-9836-4430907fed04",
   "metadata": {},
   "outputs": [
    {
     "name": "stdout",
     "output_type": "stream",
     "text": [
      "Its not palindrome\n"
     ]
    }
   ],
   "source": [
    "#3) Write a code to check if a given string is a palindrome or not?\n",
    "str=\"malayalam\"\n",
    "size=len(str)\n",
    "j=size-1\n",
    "flag=True\n",
    "for i in range(0,size//2):\n",
    "    if str[i]!=str[j]:\n",
    "        flag=False\n",
    "        break\n",
    "\n",
    "if(flag):\n",
    "    print(\"It is palindrome\")\n",
    "else:\n",
    "    print(\"Its not palindrome\")\n"
   ]
  },
  {
   "cell_type": "code",
   "execution_count": 1,
   "id": "5421280f-2515-4afa-b98b-bcfb815ae77b",
   "metadata": {},
   "outputs": [
    {
     "name": "stdout",
     "output_type": "stream",
     "text": [
      "True\n"
     ]
    }
   ],
   "source": [
    "#4) Write a code to check if two given string are anagram of each other?\n",
    "str1=\"listen\"\n",
    "str2=\"silent\"\n",
    "if sorted(str1)==sorted(str2):\n",
    "    print(\"True\")\n",
    "else:\n",
    "    print(\"False\")"
   ]
  },
  {
   "cell_type": "code",
   "execution_count": 3,
   "id": "59f95214-e911-4be6-bb15-ea231eafb653",
   "metadata": {},
   "outputs": [
    {
     "name": "stdout",
     "output_type": "stream",
     "text": [
      "[0, 7]\n"
     ]
    }
   ],
   "source": [
    "#5) Write a code to find all occurrences of a given substring within another string?\n",
    "str1=\"abracadabra\"\n",
    "str2=\"abra\"\n",
    "list=[]\n",
    "i=0\n",
    "while i<len(str1):\n",
    "    j=str1.find(str2,i)\n",
    "    if(j==-1):\n",
    "        break\n",
    "    list.append(j)\n",
    "    i=j+len(str2)\n",
    "print(list)\n",
    "    "
   ]
  },
  {
   "cell_type": "code",
   "execution_count": 16,
   "id": "9c85e4aa-4bd0-4cf3-be66-edb224c6e493",
   "metadata": {},
   "outputs": [
    {
     "ename": "TypeError",
     "evalue": "'str' object is not callable",
     "output_type": "error",
     "traceback": [
      "\u001b[0;31m---------------------------------------------------------------------------\u001b[0m",
      "\u001b[0;31mTypeError\u001b[0m                                 Traceback (most recent call last)",
      "Cell \u001b[0;32mIn[16], line 19\u001b[0m\n\u001b[1;32m     16\u001b[0m    \u001b[38;5;28;01mreturn\u001b[39;00m res\n\u001b[1;32m     18\u001b[0m s \u001b[38;5;241m=\u001b[39m \u001b[38;5;124m\"\u001b[39m\u001b[38;5;124mabbbaaaaaaccdaaab\u001b[39m\u001b[38;5;124m\"\u001b[39m\n\u001b[0;32m---> 19\u001b[0m \u001b[38;5;28mprint\u001b[39m(\u001b[43msolve\u001b[49m\u001b[43m(\u001b[49m\u001b[43ms\u001b[49m\u001b[43m)\u001b[49m)  \n",
      "Cell \u001b[0;32mIn[16], line 11\u001b[0m, in \u001b[0;36msolve\u001b[0;34m(s)\u001b[0m\n\u001b[1;32m      9\u001b[0m       res \u001b[38;5;241m=\u001b[39m res \u001b[38;5;241m+\u001b[39m s[i \u001b[38;5;241m-\u001b[39m \u001b[38;5;241m1\u001b[39m]\n\u001b[1;32m     10\u001b[0m       \u001b[38;5;28;01mif\u001b[39;00m cnt \u001b[38;5;241m>\u001b[39m \u001b[38;5;241m1\u001b[39m:\n\u001b[0;32m---> 11\u001b[0m          res \u001b[38;5;241m+\u001b[39m\u001b[38;5;241m=\u001b[39m \u001b[38;5;28;43mstr\u001b[39;49m\u001b[43m(\u001b[49m\u001b[43mcnt\u001b[49m\u001b[43m)\u001b[49m\n\u001b[1;32m     12\u001b[0m       cnt \u001b[38;5;241m=\u001b[39m \u001b[38;5;241m1\u001b[39m\n\u001b[1;32m     13\u001b[0m res \u001b[38;5;241m=\u001b[39m res \u001b[38;5;241m+\u001b[39m s[\u001b[38;5;241m-\u001b[39m\u001b[38;5;241m1\u001b[39m]\n",
      "\u001b[0;31mTypeError\u001b[0m: 'str' object is not callable"
     ]
    }
   ],
   "source": [
    "#6)  Write a code to perform basic string compression using the counts of repeated characters?\n",
    "def solve(s):\n",
    "   res = \"\"\n",
    "   cnt = 1\n",
    "   for i in range(1, len(s)):\n",
    "      if s[i - 1] == s[i]:\n",
    "         cnt += 1\n",
    "      else:\n",
    "         res = res + s[i - 1]\n",
    "         if cnt > 1:\n",
    "            res += str(cnt)\n",
    "         cnt = 1\n",
    "   res = res + s[-1]\n",
    "   if cnt > 1:\n",
    "      res += str(cnt)\n",
    "   return res\n",
    "\n",
    "s = \"abbbaaaaaaccdaaab\"\n",
    "print(solve(s))  \n",
    "\n"
   ]
  },
  {
   "cell_type": "code",
   "execution_count": 2,
   "id": "e5b64ab0-8be2-462b-97f3-5a2b2a7f9cac",
   "metadata": {},
   "outputs": [
    {
     "name": "stdout",
     "output_type": "stream",
     "text": [
      "It does not have all unique characters.\n"
     ]
    }
   ],
   "source": [
    "#7) Write a code to determine if a string has all unique characters?\n",
    "str1 = \"hutg9mnd!nk9\"\n",
    "seen_chars = [] \n",
    "flag = True\n",
    "\n",
    "for char in str1:\n",
    "    if char in seen_chars:\n",
    "        flag = False\n",
    "        break\n",
    "    else:\n",
    "        seen_chars.append(char)\n",
    "\n",
    "if flag:\n",
    "    print(\"All characters are unique.\")\n",
    "else:\n",
    "    print(\"It does not have all unique characters.\")\n"
   ]
  },
  {
   "cell_type": "code",
   "execution_count": 5,
   "id": "607734a5-8140-4e71-9181-e1b3412c8068",
   "metadata": {},
   "outputs": [
    {
     "name": "stdout",
     "output_type": "stream",
     "text": [
      "YASH\n",
      "yash\n"
     ]
    }
   ],
   "source": [
    "#8) Write a code to convert a given string to uppercase or lowercase?\n",
    "str1=\"yash\"\n",
    "str2=\"YASH\"\n",
    "str1=str1.upper()\n",
    "str2=str2.lower()\n",
    "print(str1)\n",
    "print(str2)"
   ]
  },
  {
   "cell_type": "code",
   "execution_count": 6,
   "id": "a2a7d51e-159c-4214-8f9f-fe29f2028d34",
   "metadata": {},
   "outputs": [
    {
     "name": "stdout",
     "output_type": "stream",
     "text": [
      "14\n"
     ]
    }
   ],
   "source": [
    "#9) Write a code to count the number of words in a string?\n",
    "\n",
    "str1=\"bjhewvk7895sdbhvjy\"\n",
    "count=0\n",
    "for i in str1:\n",
    "    if i.isalpha():\n",
    "        count+=1\n",
    "print(count)"
   ]
  },
  {
   "cell_type": "code",
   "execution_count": 7,
   "id": "9b4f89fa-42f2-4958-9ecb-a53c374704f5",
   "metadata": {},
   "outputs": [
    {
     "name": "stdout",
     "output_type": "stream",
     "text": [
      "HelloWorld\n"
     ]
    }
   ],
   "source": [
    "#10) Write a code to con%catenate two strings without using the + operator?\n",
    "\n",
    "str1 = \"Hello\"\n",
    "str2 = \"World\"\n",
    "concatenated_string = ''.join([str1, str2])\n",
    "\n",
    "print(concatenated_string) "
   ]
  },
  {
   "cell_type": "code",
   "execution_count": 6,
   "id": "9d7ade8d-23df-41ce-8f11-8bf096f0d8f5",
   "metadata": {},
   "outputs": [
    {
     "name": "stdout",
     "output_type": "stream",
     "text": [
      "[25, 154, 78, 771, 21, 7, 10]\n"
     ]
    }
   ],
   "source": [
    "#11) Write a code to remove all occurrences of a specific element from a list?\n",
    "list=[25,154,78,6,771,6,21,6,7,10]\n",
    "for i in list:\n",
    "    if i==6:\n",
    "        list.remove(i)\n",
    "print(list)"
   ]
  },
  {
   "cell_type": "code",
   "execution_count": 3,
   "id": "08d53582-1ef3-444f-8bd3-51036fd73d0d",
   "metadata": {},
   "outputs": [
    {
     "name": "stdout",
     "output_type": "stream",
     "text": [
      "1\n"
     ]
    }
   ],
   "source": [
    "#12) Implement a code to find the second largest number in a given list of integers?\n",
    "list=[1,2,3,75,0,6]\n",
    "list.sort()\n",
    "print(list[1])"
   ]
  },
  {
   "cell_type": "code",
   "execution_count": 4,
   "id": "379c5c58-bc49-494d-9269-6020494c107d",
   "metadata": {},
   "outputs": [
    {
     "name": "stdout",
     "output_type": "stream",
     "text": [
      "{12: 3, 89: 2, 1: 2, 5: 3, 6: 2}\n"
     ]
    }
   ],
   "source": [
    "#13) Create a code to count the occurrences of each element in a list and return a dictionary with elements as keys and their counts as values?\n",
    "list=[12,89,1,5,6,12,5,6,89,12,5,1]\n",
    "dict={}\n",
    "for i in list:\n",
    "    cnt=list.count(i)\n",
    "    dict[i]=cnt\n",
    "print(dict)"
   ]
  },
  {
   "cell_type": "code",
   "execution_count": 5,
   "id": "7285a3ee-d9fc-49c8-805a-58762f25e3eb",
   "metadata": {},
   "outputs": [
    {
     "name": "stdout",
     "output_type": "stream",
     "text": [
      "[7, 6, 5, 4, 3, 2, 1]\n"
     ]
    }
   ],
   "source": [
    "#14) Write a code to reverse a list in-place without using any built-in reverse functions?\n",
    "my_list = [1, 2, 3, 4, 5, 6, 7]\n",
    "\n",
    "left = 0\n",
    "right = len(my_list) - 1\n",
    "\n",
    "while left < right:\n",
    "    my_list[left], my_list[right] = my_list[right], my_list[left]\n",
    "    \n",
    "    left += 1\n",
    "    right -= 1\n",
    "\n",
    "print(my_list)\n"
   ]
  },
  {
   "cell_type": "code",
   "execution_count": 6,
   "id": "21e18890-3b26-4648-9ee6-79f080e38074",
   "metadata": {},
   "outputs": [
    {
     "name": "stdout",
     "output_type": "stream",
     "text": [
      "[12, 89, 1, 5, 6]\n"
     ]
    }
   ],
   "source": [
    "#15) Implement a code to find and remove duplicates from a list while preserving the original order of elements?\n",
    "\n",
    "my_list = [12, 89, 1, 5, 6, 12, 5, 6, 89, 12, 5, 1]\n",
    "\n",
    "seen = set()\n",
    "\n",
    "unique_list = []\n",
    "\n",
    "for element in my_list:\n",
    "    if element not in seen:\n",
    "        unique_list.append(element)\n",
    "        seen.add(element)\n",
    "\n",
    "print(unique_list)\n"
   ]
  },
  {
   "cell_type": "code",
   "execution_count": 7,
   "id": "50b26e13-8610-4b5c-b277-b2e62356c039",
   "metadata": {},
   "outputs": [
    {
     "name": "stdout",
     "output_type": "stream",
     "text": [
      "True\n",
      "True\n",
      "False\n"
     ]
    }
   ],
   "source": [
    "#16) Create a code to check if a given list is sorted (either in ascending or descending order) or not?\n",
    "def is_sorted(lst):\n",
    "    if len(lst) <= 1:\n",
    "        return True\n",
    "    \n",
    "    ascending = True\n",
    "    descending = True\n",
    "    \n",
    "    for i in range(len(lst) - 1):\n",
    "        if lst[i] > lst[i + 1]:\n",
    "            ascending = False\n",
    "        if lst[i] < lst[i + 1]:\n",
    "            descending = False\n",
    "\n",
    "    return ascending or descending\n",
    "\n",
    "my_list1 = [1, 2, 3, 4, 5]\n",
    "my_list2 = [5, 4, 3, 2, 1]\n",
    "my_list3 = [1, 3, 2, 4, 5]\n",
    "\n",
    "print(is_sorted(my_list1))  \n",
    "print(is_sorted(my_list2)) \n",
    "print(is_sorted(my_list3))  \n"
   ]
  },
  {
   "cell_type": "code",
   "execution_count": 8,
   "id": "a859332d-6567-443e-b441-628c1ec0fe01",
   "metadata": {},
   "outputs": [
    {
     "name": "stdout",
     "output_type": "stream",
     "text": [
      "[1, 2, 3, 4, 5, 6, 7, 8]\n"
     ]
    }
   ],
   "source": [
    "#17) Write a code to merge two sorted list into a single sorted list?\n",
    "\n",
    "def merge_sorted_lists(list1, list2):\n",
    "    i, j = 0, 0\n",
    "    merged_list = []\n",
    "    \n",
    "    while i < len(list1) and j < len(list2):\n",
    "        if list1[i] < list2[j]:\n",
    "            merged_list.append(list1[i])\n",
    "            i += 1\n",
    "        else:\n",
    "            merged_list.append(list2[j])\n",
    "            j += 1\n",
    "    \n",
    "    while i < len(list1):\n",
    "        merged_list.append(list1[i])\n",
    "        i += 1\n",
    "    \n",
    "    while j < len(list2):\n",
    "        merged_list.append(list2[j])\n",
    "        j += 1\n",
    "    \n",
    "    return merged_list\n",
    "\n",
    "sorted_list1 = [1, 3, 5, 7]\n",
    "sorted_list2 = [2, 4, 6, 8]\n",
    "\n",
    "merged_result = merge_sorted_lists(sorted_list1, sorted_list2)\n",
    "print(merged_result)\n"
   ]
  },
  {
   "cell_type": "code",
   "execution_count": 10,
   "id": "45a7d3ed-2a43-49d3-bc1a-2705a5a9e9eb",
   "metadata": {},
   "outputs": [
    {
     "name": "stdout",
     "output_type": "stream",
     "text": [
      "[4, 5]\n"
     ]
    }
   ],
   "source": [
    "#18) Implement a code to find the intersection of two given list?\n",
    "def find_intersection(list1, list2):\n",
    "    set2 = set(list2)\n",
    "    \n",
    "    intersection = [element for element in list1 if element in set2]\n",
    "    \n",
    "    seen = set()\n",
    "    intersection_no_duplicates = [x for x in intersection if not (x in seen or seen.add(x))]\n",
    "    \n",
    "    return intersection_no_duplicates\n",
    "\n",
    "list1 = [1, 2, 3, 4, 5]\n",
    "list2 = [4, 5, 6, 7, 8]\n",
    "\n",
    "result = find_intersection(list1, list2)\n",
    "print(result)\n",
    "\n"
   ]
  },
  {
   "cell_type": "code",
   "execution_count": 12,
   "id": "2e2d9bd9-6c5f-40e6-a1ec-836abc2a7bae",
   "metadata": {},
   "outputs": [
    {
     "name": "stdout",
     "output_type": "stream",
     "text": [
      "[1, 2, 3, 4, 5, 6, 7, 8]\n"
     ]
    }
   ],
   "source": [
    "#19) Create a code to find the union of two list without duplicates?\n",
    "def find_union(list1, list2):\n",
    "    seen = set()\n",
    "    \n",
    "    union_list = [x for x in list1 + list2 if not (x in seen or seen.add(x))]\n",
    "    \n",
    "    return union_list\n",
    "\n",
    "list1 = [1, 2, 3, 4, 5]\n",
    "list2 = [4, 5, 6, 7, 8]\n",
    "\n",
    "result = find_union(list1, list2)\n",
    "print(result)\n"
   ]
  },
  {
   "cell_type": "code",
   "execution_count": 13,
   "id": "705faa54-7c25-4f2d-975a-1dad5e4e2e5c",
   "metadata": {},
   "outputs": [
    {
     "name": "stdout",
     "output_type": "stream",
     "text": [
      "[5, 6, 4, 9, 8, 3, 7, 2, 1]\n"
     ]
    }
   ],
   "source": [
    "#20) Write a code to shuffle a given list randomly without using any built-in shuffle functions?\n",
    "import random\n",
    "\n",
    "def shuffle_list(lst):\n",
    "    n = len(lst)\n",
    "    \n",
    "    for i in range(n - 1, 0, -1):\n",
    "        j = random.randint(0, i)\n",
    "        \n",
    "        lst[i], lst[j] = lst[j], lst[i]\n",
    "\n",
    "    return lst\n",
    "\n",
    "my_list = [1, 2, 3, 4, 5, 6, 7, 8, 9]\n",
    "shuffled_list = shuffle_list(my_list)\n",
    "print(shuffled_list)\n"
   ]
  },
  {
   "cell_type": "code",
   "execution_count": 14,
   "id": "70317611-77fe-4fa9-8898-a215c6b206a7",
   "metadata": {},
   "outputs": [
    {
     "name": "stdin",
     "output_type": "stream",
     "text": [
      "Enter the elements of the first tuple, separated by commas:  1,2,3,4,5\n",
      "Enter the elements of the second tuple, separated by commas:  5,6,7,8,1\n"
     ]
    },
    {
     "name": "stdout",
     "output_type": "stream",
     "text": [
      "Common elements in both tuples: (1, 5)\n"
     ]
    }
   ],
   "source": [
    "#21) # Function to find common elements between two tuples\n",
    "def common_elements(tuple1, tuple2):\n",
    "    \"\"\"\n",
    "    Write a code that takes two tuples as input and returns a new tuple containing\n",
    "    elements that are common to both input tuples.\n",
    "    \"\"\"\n",
    "   \n",
    "    set1 = set(tuple1)\n",
    "    set2 = set(tuple2)\n",
    "\n",
    "    common_set = set1.intersection(set2)\n",
    "    \n",
    "    return tuple(common_set)\n",
    "\n",
    "input1 = input(\"Enter the elements of the first tuple, separated by commas: \")\n",
    "tuple1 = tuple(map(int, input1.split(',')))\n",
    "\n",
    "input2 = input(\"Enter the elements of the second tuple, separated by commas: \")\n",
    "tuple2 = tuple(map(int, input2.split(',')))\n",
    "\n",
    "result = common_elements(tuple1, tuple2)\n",
    "print(\"Common elements in both tuples:\", result)\n"
   ]
  },
  {
   "cell_type": "code",
   "execution_count": 15,
   "id": "022a0893-8528-4337-bb62-4b51a25c4573",
   "metadata": {},
   "outputs": [
    {
     "name": "stdin",
     "output_type": "stream",
     "text": [
      "Enter the elements of the first set, separated by commas:  1,2,3,4,5\n",
      "Enter the elements of the second set, separated by commas:  4,5,6,7\n"
     ]
    },
    {
     "name": "stdout",
     "output_type": "stream",
     "text": [
      "Intersection of the two sets: [4, 5]\n"
     ]
    }
   ],
   "source": [
    "#22) Write a code that prompts the user to enter two sets of integers separated by commas.\n",
    "# Then, print the intersection of these two sets.\n",
    "\n",
    "def intersection_of_sets(set1, set2):\n",
    "    common_set = set1.intersection(set2)\n",
    "    \n",
    "    return sorted(common_set)\n",
    "\n",
    "input1 = input(\"Enter the elements of the first set, separated by commas: \")\n",
    "set1 = set(map(int, input1.split(',')))\n",
    "\n",
    "input2 = input(\"Enter the elements of the second set, separated by commas: \")\n",
    "set2 = set(map(int, input2.split(',')))\n",
    "\n",
    "result = intersection_of_sets(set1, set2)\n",
    "\n",
    "print(\"Intersection of the two sets:\", result)\n"
   ]
  },
  {
   "cell_type": "code",
   "execution_count": 16,
   "id": "2a06dc26-313e-4cab-bc8a-0ee2f7f4e6e1",
   "metadata": {},
   "outputs": [
    {
     "name": "stdin",
     "output_type": "stream",
     "text": [
      "Enter the elements of the first tuple, separated by commas:  1,2,3\n",
      "Enter the elements of the second tuple, separated by commas:  4,5,6\n"
     ]
    },
    {
     "name": "stdout",
     "output_type": "stream",
     "text": [
      "Concatenated tuple: (1, 2, 3, 4, 5, 6)\n"
     ]
    }
   ],
   "source": [
    "#23) Write a code to concatenate two tuples. \n",
    "# The function should take two tuples as input and return a new tuple containing \n",
    "# all elements from both tuples.\n",
    "\n",
    "def concatenate_tuples(tuple1, tuple2):\n",
    "    concatenated_tuple = tuple1 + tuple2\n",
    "    \n",
    "    return concatenated_tuple\n",
    "\n",
    "def get_tuple_from_user(prompt):\n",
    "    input_string = input(prompt)\n",
    "    \n",
    "    user_tuple = tuple(map(int, input_string.split(',')))\n",
    "    \n",
    "    return user_tuple\n",
    "\n",
    "tuple1 = get_tuple_from_user(\"Enter the elements of the first tuple, separated by commas: \")\n",
    "\n",
    "tuple2 = get_tuple_from_user(\"Enter the elements of the second tuple, separated by commas: \")\n",
    "\n",
    "result = concatenate_tuples(tuple1, tuple2)\n",
    "\n",
    "print(\"Concatenated tuple:\", result)\n"
   ]
  },
  {
   "cell_type": "code",
   "execution_count": 17,
   "id": "e01eea94-51bf-47bc-b618-ca466a75f0eb",
   "metadata": {},
   "outputs": [
    {
     "name": "stdin",
     "output_type": "stream",
     "text": [
      "Enter the elements of the first set of strings, separated by commas:  1,2,3\n",
      "Enter the elements of the second set of strings, separated by commas:  3,4,1,5,6\n"
     ]
    },
    {
     "name": "stdout",
     "output_type": "stream",
     "text": [
      "Elements in the first set but not in the second set: ['2']\n"
     ]
    }
   ],
   "source": [
    "#24 Write a code that prompts the user to input two sets of strings.\n",
    "# Then, print the elements that are present in the first set but not in the second set.\n",
    "\n",
    "def difference_of_sets(set1, set2):\n",
    "    difference_set = set1 - set2\n",
    "    \n",
    "    return sorted(difference_set)\n",
    "\n",
    "def get_set_from_user(prompt):\n",
    "    input_string = input(prompt)\n",
    "    \n",
    "    user_set = set(input_string.split(','))\n",
    "    \n",
    "    return user_set\n",
    "\n",
    "set1 = get_set_from_user(\"Enter the elements of the first set of strings, separated by commas: \")\n",
    "\n",
    "set2 = get_set_from_user(\"Enter the elements of the second set of strings, separated by commas: \")\n",
    "\n",
    "result = difference_of_sets(set1, set2)\n",
    "\n",
    "print(\"Elements in the first set but not in the second set:\", result)\n"
   ]
  },
  {
   "cell_type": "code",
   "execution_count": 18,
   "id": "bc00621d-f5ac-4150-86fe-abb2d2eab1be",
   "metadata": {},
   "outputs": [
    {
     "name": "stdin",
     "output_type": "stream",
     "text": [
      "Enter the elements of the tuple, separated by commas:  10,20,30,40,50\n",
      "Enter the start index:  1\n",
      "Enter the end index:  3\n"
     ]
    },
    {
     "name": "stdout",
     "output_type": "stream",
     "text": [
      "Sliced tuple: (20, 30, 40)\n"
     ]
    }
   ],
   "source": [
    "#25) Write a code that takes a tuple and two integers as input.\n",
    "# The function should return a new tuple containing elements from the original tuple\n",
    "# within the specified range of indices (inclusive).\n",
    "\n",
    "def slice_tuple(original_tuple, start_index, end_index):\n",
    "    if start_index < 0:\n",
    "        start_index = 0\n",
    "    if end_index >= len(original_tuple):\n",
    "        end_index = len(original_tuple) - 1\n",
    "    \n",
    "    sliced_tuple = original_tuple[start_index:end_index + 1]\n",
    "    \n",
    "    return sliced_tuple\n",
    "\n",
    "def get_tuple_from_user(prompt):\n",
    "    input_string = input(prompt)\n",
    "    \n",
    "    user_tuple = tuple(map(int, input_string.split(',')))\n",
    "    \n",
    "    return user_tuple\n",
    "\n",
    "original_tuple = get_tuple_from_user(\"Enter the elements of the tuple, separated by commas: \")\n",
    "\n",
    "start_index = int(input(\"Enter the start index: \"))\n",
    "end_index = int(input(\"Enter the end index: \"))\n",
    "\n",
    "result = slice_tuple(original_tuple, start_index, end_index)\n",
    "\n",
    "print(\"Sliced tuple:\", result)\n"
   ]
  },
  {
   "cell_type": "code",
   "execution_count": 19,
   "id": "9aded815-d3db-44ce-a344-9b90688e017e",
   "metadata": {},
   "outputs": [
    {
     "name": "stdin",
     "output_type": "stream",
     "text": [
      "Enter the elements of the first set of characters, separated by commas:  a,b,c\n",
      "Enter the elements of the second set of characters, separated by commas:  d,\n"
     ]
    },
    {
     "name": "stdout",
     "output_type": "stream",
     "text": [
      "Union of the two sets: ['', 'a', 'b', 'c', 'd']\n"
     ]
    }
   ],
   "source": [
    "#26 Write a code that prompts the user to input two sets of characters.\n",
    "# Then, print the union of these two sets.\n",
    "\n",
    "def union_of_sets(set1, set2):\n",
    "    union_set = set1 | set2\n",
    "    \n",
    "    return sorted(union_set)\n",
    "\n",
    "def get_set_from_user(prompt):\n",
    "    input_string = input(prompt)\n",
    "    \n",
    "    user_set = set(input_string.replace(\" \", \"\").split(','))\n",
    "    \n",
    "    return user_set\n",
    "\n",
    "set1 = get_set_from_user(\"Enter the elements of the first set of characters, separated by commas: \")\n",
    "\n",
    "set2 = get_set_from_user(\"Enter the elements of the second set of characters, separated by commas: \")\n",
    "\n",
    "result = union_of_sets(set1, set2)\n",
    "\n",
    "print(\"Union of the two sets:\", result)\n"
   ]
  },
  {
   "cell_type": "code",
   "execution_count": 20,
   "id": "cb728a82-6de6-4dfd-a7bd-8f138b9503d9",
   "metadata": {},
   "outputs": [
    {
     "name": "stdin",
     "output_type": "stream",
     "text": [
      "Enter the elements of the tuple, separated by commas:  1,2,3,4,5\n"
     ]
    },
    {
     "name": "stdout",
     "output_type": "stream",
     "text": [
      "Maximum value: 5\n",
      "Minimum value: 1\n"
     ]
    }
   ],
   "source": [
    "#27) Write a code that takes a tuple of integers as input.\n",
    "# The function should return the maximum and minimum values from the tuple using tuple unpacking.\n",
    "\n",
    "def find_max_min(numbers_tuple):\n",
    "    if not numbers_tuple:\n",
    "        raise ValueError(\"The tuple is empty, cannot determine max and min values.\")\n",
    "    \n",
    "    max_value = max(numbers_tuple)\n",
    "    min_value = min(numbers_tuple)\n",
    "    \n",
    "    return max_value, min_value\n",
    "\n",
    "def get_tuple_from_user(prompt):\n",
    "    input_string = input(prompt)\n",
    "    \n",
    "    user_tuple = tuple(map(int, input_string.split(',')))\n",
    "    \n",
    "    return user_tuple\n",
    "\n",
    "numbers_tuple = get_tuple_from_user(\"Enter the elements of the tuple, separated by commas: \")\n",
    "\n",
    "max_value, min_value = find_max_min(numbers_tuple)\n",
    "\n",
    "print(\"Maximum value:\", max_value)\n",
    "print(\"Minimum value:\", min_value)\n"
   ]
  },
  {
   "cell_type": "code",
   "execution_count": 21,
   "id": "f802a23c-4c05-48e8-94ae-8f24a944b715",
   "metadata": {},
   "outputs": [
    {
     "name": "stdout",
     "output_type": "stream",
     "text": [
      "Union of the two sets: {1, 2, 3, 4, 5, 6, 7, 8}\n",
      "Intersection of the two sets: {4, 5}\n",
      "Difference of the two sets (set1 - set2): {1, 2, 3}\n"
     ]
    }
   ],
   "source": [
    "#28) find union,intersection,difference between two sets\n",
    "\n",
    "set1 = {1, 2, 3, 4, 5}\n",
    "set2 = {4, 5, 6, 7, 8}\n",
    "\n",
    "\n",
    "union_set = set1 | set2\n",
    "\n",
    "intersection_set = set1 & set2\n",
    "\n",
    "difference_set = set1 - set2\n",
    "\n",
    "print(\"Union of the two sets:\", union_set)\n",
    "print(\"Intersection of the two sets:\", intersection_set)\n",
    "print(\"Difference of the two sets (set1 - set2):\", difference_set)\n"
   ]
  },
  {
   "cell_type": "code",
   "execution_count": 22,
   "id": "1bf9e1fb-d06b-4525-a560-c6d06961c5d1",
   "metadata": {},
   "outputs": [
    {
     "name": "stdin",
     "output_type": "stream",
     "text": [
      "Enter the elements of the tuple, separated by commas:  1,2,3,4,2,2\n",
      "Enter the element to count in the tuple:  2\n"
     ]
    },
    {
     "name": "stdout",
     "output_type": "stream",
     "text": [
      "The element 2 occurs 3 times in the tuple.\n"
     ]
    }
   ],
   "source": [
    "#29 Write a code that takes a tuple and an element as input.\n",
    "# The function should return the count of occurrences of the given element in the tuple.\n",
    "\n",
    "def count_occurrences(t, element):\n",
    "  \n",
    "    count = t.count(element)\n",
    "    \n",
    "    return count\n",
    "\n",
    "def get_tuple_from_user(prompt):\n",
    "    input_string = input(prompt)\n",
    "    \n",
    "    user_tuple = tuple(map(int, input_string.split(',')))\n",
    "    \n",
    "    return user_tuple\n",
    "\n",
    "def get_element_from_user(prompt):\n",
    "    element = int(input(prompt))\n",
    "    \n",
    "    return element\n",
    "\n",
    "user_tuple = get_tuple_from_user(\"Enter the elements of the tuple, separated by commas: \")\n",
    "\n",
    "\n",
    "element_to_count = get_element_from_user(\"Enter the element to count in the tuple: \")\n",
    "\n",
    "count = count_occurrences(user_tuple, element_to_count)\n",
    "\n",
    "print(f\"The element {element_to_count} occurs {count} times in the tuple.\")\n"
   ]
  },
  {
   "cell_type": "code",
   "execution_count": 23,
   "id": "5335a788-9782-49af-90a0-107671889b63",
   "metadata": {},
   "outputs": [
    {
     "name": "stdin",
     "output_type": "stream",
     "text": [
      "Enter the elements of the first set of strings, separated by commas:  apple,banana,cherry\n",
      "Enter the elements of the second set of strings, separated by commas:  banana,cherry,dates\n"
     ]
    },
    {
     "name": "stdout",
     "output_type": "stream",
     "text": [
      "Symmetric difference of the two sets: {'dates', 'apple'}\n"
     ]
    }
   ],
   "source": [
    "#30) # Write a code that prompts the user to input two sets of strings.\n",
    "# Then, print the symmetric difference of these two sets.\n",
    "\n",
    "def symmetric_difference(set1, set2):\n",
    "   \n",
    "    return set1 ^ set2\n",
    "\n",
    "def get_set_from_user(prompt):\n",
    "   \n",
    "    input_string = input(prompt)\n",
    "    \n",
    "    user_set = set(input_string.replace(\" \", \"\").split(','))\n",
    "    \n",
    "    return user_set\n",
    "\n",
    "set1 = get_set_from_user(\"Enter the elements of the first set of strings, separated by commas: \")\n",
    "\n",
    "set2 = get_set_from_user(\"Enter the elements of the second set of strings, separated by commas: \")\n",
    "\n",
    "result = symmetric_difference(set1, set2)\n",
    "\n",
    "print(\"Symmetric difference of the two sets:\", result)\n"
   ]
  },
  {
   "cell_type": "code",
   "execution_count": 24,
   "id": "440ead4e-f622-4d7f-8eb6-2f911cac5192",
   "metadata": {},
   "outputs": [
    {
     "name": "stdin",
     "output_type": "stream",
     "text": [
      "Enter a list of words separated by spaces:  1,2,3\n"
     ]
    },
    {
     "name": "stdout",
     "output_type": "stream",
     "text": [
      "Word frequencies: {'1,2,3': 1}\n"
     ]
    }
   ],
   "source": [
    "#31)  Given a list of words, return a dictionary where the keys are the unique words\n",
    "# and the values are their frequencies in the list.\n",
    "  \n",
    "def count_word_frequencies(word_list):\n",
    "    frequency_dict = {}\n",
    "    \n",
    "    for word in word_list:\n",
    "        if word in frequency_dict:\n",
    "            frequency_dict[word] += 1\n",
    "        else:\n",
    "            frequency_dict[word] = 1\n",
    "    \n",
    "    return frequency_dict\n",
    "\n",
    "def get_word_list_from_user(prompt):\n",
    "    input_string = input(prompt)\n",
    "    \n",
    "    word_list = input_string.split()\n",
    "    \n",
    "    return word_list\n",
    "\n",
    "word_list = get_word_list_from_user(\"Enter a list of words separated by spaces: \")\n",
    "\n",
    "word_frequencies = count_word_frequencies(word_list)\n",
    "\n",
    "print(\"Word frequencies:\", word_frequencies)\n"
   ]
  },
  {
   "cell_type": "code",
   "execution_count": 25,
   "id": "2abd4a64-f6d5-4c09-a8c0-f62647c60155",
   "metadata": {},
   "outputs": [
    {
     "name": "stdin",
     "output_type": "stream",
     "text": [
      "Enter the first dictionary (key:value pairs separated by commas):  a:1,b:2\n",
      "Enter the second dictionary (key:value pairs separated by commas):  b:3,c:4\n"
     ]
    },
    {
     "name": "stdout",
     "output_type": "stream",
     "text": [
      "Merged dictionary: {'a': 1, 'b': 5, 'c': 4}\n"
     ]
    }
   ],
   "source": [
    "#32) Merges two dictionaries into a single dictionary.\n",
    "# If there are common keys, their values are added together.\n",
    "def merge_dicts(dict1, dict2):\n",
    "    result_dict = {}\n",
    "    for key in dict1:\n",
    "        result_dict[key] = dict1[key]\n",
    "    \n",
    "    for key in dict2:\n",
    "        if key in result_dict:\n",
    "            result_dict[key] += dict2[key]\n",
    "        else:\n",
    "            result_dict[key] = dict2[key]\n",
    "    \n",
    "    return result_dict\n",
    "\n",
    "def get_dict_from_user(prompt):\n",
    "  \n",
    "    input_string = input(prompt)\n",
    "   \n",
    "    pairs = input_string.split(',')\n",
    "    user_dict = {}\n",
    "    for pair in pairs:\n",
    "        key, value = pair.split(':')\n",
    "        user_dict[key.strip()] = int(value.strip())  # Convert value to integer\n",
    "    \n",
    "    return user_dict\n",
    "\n",
    "dict1 = get_dict_from_user(\"Enter the first dictionary (key:value pairs separated by commas): \")\n",
    "\n",
    "dict2 = get_dict_from_user(\"Enter the second dictionary (key:value pairs separated by commas): \")\n",
    "\n",
    "\n",
    "merged_dict = merge_dicts(dict1, dict2)\n",
    "\n",
    "print(\"Merged dictionary:\", merged_dict)\n"
   ]
  },
  {
   "cell_type": "code",
   "execution_count": null,
   "id": "d639388d-50e6-4583-a4a7-4cb746c23327",
   "metadata": {},
   "outputs": [],
   "source": [
    "#35)  Inverts a dictionary by swapping keys and values.\n",
    "# If multiple keys have the same value, the values in the inverted dictionary are stored as lists.\n",
    "def invert_dict(d):\n",
    "\n",
    "    inverted_dict = {}\n",
    "    \n",
    "    for key, value in d.items():\n",
    "        if value in inverted_dict:\n",
    "            inverted_dict[value].append(key)\n",
    "        else:\n",
    "            inverted_dict[value] = [key]\n",
    "    \n",
    "    return inverted_dict\n",
    "\n",
    "def get_dict_from_user(prompt):\n",
    "    input_string = input(prompt)\n",
    "    user_dict = {}\n",
    "    \n",
    "    pairs = input_string.split(',')\n",
    "    for pair in pairs:\n",
    "        key, value = pair.split(':')\n",
    "        user_dict[key.strip()] = value.strip()\n",
    "    \n",
    "    return user_dict\n",
    "\n",
    "user_dict = get_dict_from_user(\"Enter the dictionary (key:value pairs separated by commas): \")\n",
    "\n",
    "inverted_dict = invert_dict(user_dict)\n",
    "\n",
    "print(\"Inverted dictionary:\", inverted_dict)\n"
   ]
  },
  {
   "cell_type": "code",
   "execution_count": null,
   "id": "06df52d9-be25-42e8-946b-c73858efd7a4",
   "metadata": {},
   "outputs": [],
   "source": []
  }
 ],
 "metadata": {
  "kernelspec": {
   "display_name": "Python 3 (ipykernel)",
   "language": "python",
   "name": "python3"
  },
  "language_info": {
   "codemirror_mode": {
    "name": "ipython",
    "version": 3
   },
   "file_extension": ".py",
   "mimetype": "text/x-python",
   "name": "python",
   "nbconvert_exporter": "python",
   "pygments_lexer": "ipython3",
   "version": "3.10.8"
  }
 },
 "nbformat": 4,
 "nbformat_minor": 5
}
